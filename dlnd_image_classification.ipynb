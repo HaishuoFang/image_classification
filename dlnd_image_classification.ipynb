{
 "cells": [
  {
   "cell_type": "markdown",
   "metadata": {
    "collapsed": true,
    "deletable": true,
    "editable": true
   },
   "source": [
    "# 图像分类\n",
    "\n",
    "在此项目中，你将对 [CIFAR-10 数据集](https://www.cs.toronto.edu/~kriz/cifar.html) 中的图片进行分类。该数据集包含飞机、猫狗和其他物体。你需要预处理这些图片，然后用所有样本训练一个卷积神经网络。图片需要标准化（normalized），标签需要采用 one-hot 编码。你需要应用所学的知识构建卷积的、最大池化（max pooling）、丢弃（dropout）和完全连接（fully connected）的层。最后，你需要在样本图片上看到神经网络的预测结果。\n",
    "\n",
    "\n",
    "## 获取数据\n",
    "\n",
    "请运行以下单元，以下载 [CIFAR-10 数据集（Python版）](https://www.cs.toronto.edu/~kriz/cifar-10-python.tar.gz)。\n"
   ]
  },
  {
   "cell_type": "code",
   "execution_count": 1,
   "metadata": {
    "collapsed": false,
    "deletable": true,
    "editable": true
   },
   "outputs": [
    {
     "name": "stdout",
     "output_type": "stream",
     "text": [
      "All files found!\n"
     ]
    }
   ],
   "source": [
    "\"\"\"\n",
    "DON'T MODIFY ANYTHING IN THIS CELL THAT IS BELOW THIS LINE\n",
    "\"\"\"\n",
    "from urllib.request import urlretrieve\n",
    "from os.path import isfile, isdir\n",
    "from tqdm import tqdm\n",
    "import problem_unittests as tests\n",
    "import tarfile\n",
    "\n",
    "cifar10_dataset_folder_path = 'cifar-10-batches-py'\n",
    "\n",
    "# Use Floyd's cifar-10 dataset if present\n",
    "floyd_cifar10_location = '/input/cifar-10/python.tar.gz'\n",
    "if isfile(floyd_cifar10_location):\n",
    "    tar_gz_path = floyd_cifar10_location\n",
    "else:\n",
    "    tar_gz_path = 'cifar-10-python.tar.gz'\n",
    "\n",
    "class DLProgress(tqdm):\n",
    "    last_block = 0\n",
    "\n",
    "    def hook(self, block_num=1, block_size=1, total_size=None):\n",
    "        self.total = total_size\n",
    "        self.update((block_num - self.last_block) * block_size)\n",
    "        self.last_block = block_num\n",
    "\n",
    "if not isfile(tar_gz_path):\n",
    "    with DLProgress(unit='B', unit_scale=True, miniters=1, desc='CIFAR-10 Dataset') as pbar:\n",
    "        urlretrieve(\n",
    "            'https://www.cs.toronto.edu/~kriz/cifar-10-python.tar.gz',\n",
    "            tar_gz_path,\n",
    "            pbar.hook)\n",
    "\n",
    "if not isdir(cifar10_dataset_folder_path):\n",
    "    with tarfile.open(tar_gz_path) as tar:\n",
    "        tar.extractall()\n",
    "        tar.close()\n",
    "\n",
    "\n",
    "tests.test_folder_path(cifar10_dataset_folder_path)"
   ]
  },
  {
   "cell_type": "markdown",
   "metadata": {
    "deletable": true,
    "editable": true
   },
   "source": [
    "## 探索数据\n",
    "\n",
    "该数据集分成了几部分／批次（batches），以免你的机器在计算时内存不足。CIFAR-10 数据集包含 5 个部分，名称分别为 `data_batch_1`、`data_batch_2`，以此类推。每个部分都包含以下某个类别的标签和图片：\n",
    "\n",
    "* 飞机\n",
    "* 汽车\n",
    "* 鸟类\n",
    "* 猫\n",
    "* 鹿\n",
    "* 狗\n",
    "* 青蛙\n",
    "* 马\n",
    "* 船只\n",
    "* 卡车\n",
    "\n",
    "了解数据集也是对数据进行预测的必经步骤。你可以通过更改 `batch_id` 和 `sample_id` 探索下面的代码单元。`batch_id` 是数据集一个部分的 ID（1 到 5）。`sample_id` 是该部分中图片和标签对（label pair）的 ID。\n",
    "\n",
    "问问你自己：“可能的标签有哪些？”、“图片数据的值范围是多少？”、“标签是按顺序排列，还是随机排列的？”。思考类似的问题，有助于你预处理数据，并使预测结果更准确。\n"
   ]
  },
  {
   "cell_type": "code",
   "execution_count": 2,
   "metadata": {
    "collapsed": false,
    "deletable": true,
    "editable": true
   },
   "outputs": [
    {
     "name": "stdout",
     "output_type": "stream",
     "text": [
      "\n",
      "Stats of batch 1:\n",
      "Samples: 10000\n",
      "Label Counts: {0: 1005, 1: 974, 2: 1032, 3: 1016, 4: 999, 5: 937, 6: 1030, 7: 1001, 8: 1025, 9: 981}\n",
      "First 20 Labels: [6, 9, 9, 4, 1, 1, 2, 7, 8, 3, 4, 7, 7, 2, 9, 9, 9, 3, 2, 6]\n",
      "\n",
      "Example of Image 5:\n",
      "Image - Min Value: 0 Max Value: 252\n",
      "Image - Shape: (32, 32, 3)\n",
      "Label - Label Id: 1 Name: automobile\n"
     ]
    },
    {
     "data": {
      "image/png": "[encoded data removed]",
      "text/plain": [
       "<matplotlib.figure.Figure at 0x7fc8a6594fd0>"
      ]
     },
     "metadata": {
      "image/png": {
       "height": 250,
       "width": 253
      }
     },
     "output_type": "display_data"
    }
   ],
   "source": [
    "%matplotlib inline\n",
    "%config InlineBackend.figure_format = 'retina'\n",
    "\n",
    "import helper\n",
    "import numpy as np\n",
    "\n",
    "# Explore the dataset\n",
    "batch_id = 1\n",
    "sample_id = 5\n",
    "helper.display_stats(cifar10_dataset_folder_path, batch_id, sample_id)"
   ]
  },
  {
   "cell_type": "markdown",
   "metadata": {
    "deletable": true,
    "editable": true
   },
   "source": [
    "## 实现预处理函数\n",
    "\n",
    "### 标准化\n",
    "\n",
    "在下面的单元中，实现 `normalize` 函数，传入图片数据 `x`，并返回标准化 Numpy 数组。值应该在 0 到 1 的范围内（含 0 和 1）。返回对象应该和 `x` 的形状一样。\n"
   ]
  },
  {
   "cell_type": "code",
   "execution_count": 6,
   "metadata": {
    "collapsed": false,
    "deletable": true,
    "editable": true
   },
   "outputs": [
    {
     "name": "stdout",
     "output_type": "stream",
     "text": [
      "Tests Passed\n"
     ]
    }
   ],
   "source": [
    "def normalize(x):\n",
    "    \"\"\"\n",
    "    Normalize a list of sample image data in the range of 0 to 1\n",
    "    : x: List of image data.  The image shape is (32, 32, 3)\n",
    "    : return: Numpy array of normalize data\n",
    "    \"\"\"\n",
    "    # TODO: Implement Function\n",
    "    return np.array(x/255)\n",
    "\n",
    "\n",
    "\"\"\"\n",
    "DON'T MODIFY ANYTHING IN THIS CELL THAT IS BELOW THIS LINE\n",
    "\"\"\"\n",
    "tests.test_normalize(normalize)"
   ]
  },
  {
   "cell_type": "markdown",
   "metadata": {
    "deletable": true,
    "editable": true
   },
   "source": [
    "### One-hot 编码\n",
    "\n",
    "和之前的代码单元一样，你将为预处理实现一个函数。这次，你将实现 `one_hot_encode` 函数。输入，也就是 `x`，是一个标签列表。实现该函数，以返回为 one_hot 编码的 Numpy 数组的标签列表。标签的可能值为 0 到 9。每次调用 `one_hot_encode` 时，对于每个值，one_hot 编码函数应该返回相同的编码。确保将编码映射保存到该函数外面。\n",
    "\n",
    "提示：不要重复发明轮子。\n"
   ]
  },
  {
   "cell_type": "code",
   "execution_count": 3,
   "metadata": {
    "collapsed": true,
    "deletable": true,
    "editable": true
   },
   "outputs": [],
   "source": [
    "from sklearn.preprocessing import LabelBinarizer"
   ]
  },
  {
   "cell_type": "code",
   "execution_count": 4,
   "metadata": {
    "collapsed": false,
    "deletable": true,
    "editable": true
   },
   "outputs": [
    {
     "name": "stdout",
     "output_type": "stream",
     "text": [
      "Tests Passed\n"
     ]
    }
   ],
   "source": [
    "def one_hot_encode(x):\n",
    "    \"\"\"\n",
    "    One hot encode a list of sample labels. Return a one-hot encoded vector for each label.\n",
    "    : x: List of sample Labels\n",
    "    : return: Numpy array of one-hot encoded labels\n",
    "    \"\"\"\n",
    "    # TODO: Implement Function\n",
    "    lb = LabelBinarizer()\n",
    "    lb = lb.fit(range(0,10))\n",
    "    return lb.transform(x)\n",
    "\n",
    "\n",
    "\"\"\"\n",
    "DON'T MODIFY ANYTHING IN THIS CELL THAT IS BELOW THIS LINE\n",
    "\"\"\"\n",
    "tests.test_one_hot_encode(one_hot_encode)"
   ]
  },
  {
   "cell_type": "markdown",
   "metadata": {
    "deletable": true,
    "editable": true
   },
   "source": [
    "### 随机化数据\n",
    "\n",
    "之前探索数据时，你已经了解到，样本的顺序是随机的。再随机化一次也不会有什么关系，但是对于这个数据集没有必要。\n"
   ]
  },
  {
   "cell_type": "markdown",
   "metadata": {
    "deletable": true,
    "editable": true
   },
   "source": [
    "## 预处理所有数据并保存\n",
    "\n",
    "运行下方的代码单元，将预处理所有 CIFAR-10 数据，并保存到文件中。下面的代码还使用了 10% 的训练数据，用来验证。\n"
   ]
  },
  {
   "cell_type": "code",
   "execution_count": 7,
   "metadata": {
    "collapsed": false,
    "deletable": true,
    "editable": true
   },
   "outputs": [],
   "source": [
    "\"\"\"\n",
    "DON'T MODIFY ANYTHING IN THIS CELL\n",
    "\"\"\"\n",
    "# Preprocess Training, Validation, and Testing Data\n",
    "helper.preprocess_and_save_data(cifar10_dataset_folder_path, normalize, one_hot_encode)"
   ]
  },
  {
   "cell_type": "markdown",
   "metadata": {
    "deletable": true,
    "editable": true
   },
   "source": [
    "# 检查点\n",
    "\n",
    "这是你的第一个检查点。如果你什么时候决定再回到该记事本，或需要重新启动该记事本，你可以从这里开始。预处理的数据已保存到本地。\n"
   ]
  },
  {
   "cell_type": "code",
   "execution_count": 2,
   "metadata": {
    "collapsed": true,
    "deletable": true,
    "editable": true
   },
   "outputs": [],
   "source": [
    "\"\"\"\n",
    "DON'T MODIFY ANYTHING IN THIS CELL\n",
    "\"\"\"\n",
    "import pickle\n",
    "import problem_unittests as testsa\n",
    "import helper\n",
    "\n",
    "# Load the Preprocessed Validation data\n",
    "valid_features, valid_labels = pickle.load(open('preprocess_validation.p', mode='rb'))"
   ]
  },
  {
   "cell_type": "markdown",
   "metadata": {
    "deletable": true,
    "editable": true
   },
   "source": [
    "## 构建网络\n",
    "\n",
    "对于该神经网络，你需要将每层都构建为一个函数。你看到的大部分代码都位于函数外面。要更全面地测试你的代码，我们需要你将每层放入一个函数中。这样使我们能够提供更好的反馈，并使用我们的统一测试检测简单的错误，然后再提交项目。\n",
    "\n",
    ">**注意**：如果你觉得每周很难抽出足够的时间学习这门课程，我们为此项目提供了一个小捷径。对于接下来的几个问题，你可以使用 [TensorFlow Layers](https://www.tensorflow.org/api_docs/python/tf/layers) 或 [TensorFlow Layers (contrib)](https://www.tensorflow.org/api_guides/python/contrib.layers) 程序包中的类来构建每个层级，但是“卷积和最大池化层级”部分的层级除外。TF Layers 和 Keras 及 TFLearn 层级类似，因此很容易学会。\n",
    "\n",
    ">但是，如果你想充分利用这门课程，请尝试自己解决所有问题，不使用 TF Layers 程序包中的任何类。你依然可以使用其他程序包中的类，这些类和你在 TF Layers 中的类名称是一样的！例如，你可以使用 TF Neural Network 版本的 `conv2d` 类 [tf.nn.conv2d](https://www.tensorflow.org/api_docs/python/tf/nn/conv2d)，而不是 TF Layers 版本的 `conv2d` 类 [tf.layers.conv2d](https://www.tensorflow.org/api_docs/python/tf/layers/conv2d)。\n",
    "\n",
    "我们开始吧！\n",
    "\n",
    "\n",
    "### 输入\n",
    "\n",
    "神经网络需要读取图片数据、one-hot 编码标签和丢弃保留概率（dropout keep probability）。请实现以下函数：\n",
    "\n",
    "* 实现 `neural_net_image_input`\n",
    " * 返回 [TF Placeholder](https://www.tensorflow.org/api_docs/python/tf/placeholder)\n",
    " * 使用 `image_shape` 设置形状，部分大小设为 `None`\n",
    " * 使用 [TF Placeholder](https://www.tensorflow.org/api_docs/python/tf/placeholder) 中的 TensorFlow `name` 参数对 TensorFlow 占位符 \"x\" 命名\n",
    "* 实现 `neural_net_label_input`\n",
    " * 返回 [TF Placeholder](https://www.tensorflow.org/api_docs/python/tf/placeholder)\n",
    " * 使用 `n_classes` 设置形状，部分大小设为 `None`\n",
    " * 使用 [TF Placeholder](https://www.tensorflow.org/api_docs/python/tf/placeholder) 中的 TensorFlow `name` 参数对 TensorFlow 占位符 \"y\" 命名\n",
    "* 实现 `neural_net_keep_prob_input`\n",
    " * 返回 [TF Placeholder](https://www.tensorflow.org/api_docs/python/tf/placeholder)，用于丢弃保留概率\n",
    " * 使用 [TF Placeholder](https://www.tensorflow.org/api_docs/python/tf/placeholder) 中的 TensorFlow `name` 参数对 TensorFlow 占位符 \"keep_prob\" 命名\n",
    "\n",
    "这些名称将在项目结束时，用于加载保存的模型。\n",
    "\n",
    "注意：TensorFlow 中的 `None` 表示形状可以是动态大小。"
   ]
  },
  {
   "cell_type": "code",
   "execution_count": 3,
   "metadata": {
    "collapsed": false,
    "deletable": true,
    "editable": true
   },
   "outputs": [
    {
     "name": "stdout",
     "output_type": "stream",
     "text": [
      "Image Input Tests Passed.\n",
      "Label Input Tests Passed.\n",
      "Keep Prob Tests Passed.\n"
     ]
    }
   ],
   "source": [
    "import tensorflow as tf\n",
    "\n",
    "def neural_net_image_input(image_shape):\n",
    "    \"\"\"\n",
    "    Return a Tensor for a batch of image input\n",
    "    : image_shape: Shape of the images\n",
    "    : return: Tensor for image input.\n",
    "    \"\"\"\n",
    "    # TODO: Implement Function\n",
    "    input_image = tf.placeholder(tf.float32,[None,*image_shape],name = 'x')\n",
    "    return input_image\n",
    "\n",
    "\n",
    "def neural_net_label_input(n_classes):\n",
    "    \"\"\"\n",
    "    Return a Tensor for a batch of label input\n",
    "    : n_classes: Number of classes\n",
    "    : return: Tensor for label input.\n",
    "    \"\"\"\n",
    "    # TODO: Implement Function\n",
    "    classes = tf.placeholder(tf.int64,[None,n_classes],name = 'y')\n",
    "    \n",
    "    return classes\n",
    "\n",
    "\n",
    "def neural_net_keep_prob_input():\n",
    "    \"\"\"\n",
    "    Return a Tensor for keep probability\n",
    "    : return: Tensor for keep probability.\n",
    "    \"\"\"\n",
    "    # TODO: Implement Function\n",
    "    keep_prob = tf.placeholder(tf.float32,name = 'keep_prob')\n",
    "    return keep_prob\n",
    "\n",
    "\n",
    "\"\"\"\n",
    "DON'T MODIFY ANYTHING IN THIS CELL THAT IS BELOW THIS LINE\n",
    "\"\"\"\n",
    "tf.reset_default_graph()\n",
    "tests.test_nn_image_inputs(neural_net_image_input)\n",
    "tests.test_nn_label_inputs(neural_net_label_input)\n",
    "tests.test_nn_keep_prob_inputs(neural_net_keep_prob_input)"
   ]
  },
  {
   "cell_type": "markdown",
   "metadata": {
    "deletable": true,
    "editable": true
   },
   "source": [
    "### 卷积和最大池化层\n",
    "\n",
    "卷积层级适合处理图片。对于此代码单元，你应该实现函数 `conv2d_maxpool` 以便应用卷积然后进行最大池化：\n",
    "\n",
    "* 使用 `conv_ksize`、`conv_num_outputs` 和 `x_tensor` 的形状创建权重（weight）和偏置（bias）。\n",
    "* 使用权重和 `conv_strides` 对 `x_tensor` 应用卷积。\n",
    " * 建议使用我们建议的间距（padding），当然也可以使用任何其他间距。\n",
    "* 添加偏置\n",
    "* 向卷积中添加非线性激活（nonlinear activation）\n",
    "* 使用 `pool_ksize` 和 `pool_strides` 应用最大池化\n",
    " * 建议使用我们建议的间距（padding），当然也可以使用任何其他间距。\n",
    "\n",
    "**注意**：对于**此层**，**请勿使用** [TensorFlow Layers](https://www.tensorflow.org/api_docs/python/tf/layers) 或 [TensorFlow Layers (contrib)](https://www.tensorflow.org/api_guides/python/contrib.layers)，但是仍然可以使用 TensorFlow 的 [Neural Network](https://www.tensorflow.org/api_docs/python/tf/nn) 包。对于所有**其他层**，你依然可以使用快捷方法。\n"
   ]
  },
  {
   "cell_type": "code",
   "execution_count": 4,
   "metadata": {
    "collapsed": false,
    "deletable": true,
    "editable": true
   },
   "outputs": [
    {
     "name": "stdout",
     "output_type": "stream",
     "text": [
      "Tests Passed\n"
     ]
    }
   ],
   "source": [
    "def conv2d_maxpool(x_tensor, conv_num_outputs, conv_ksize, conv_strides, pool_ksize, pool_strides):\n",
    "    \"\"\"\n",
    "    Apply convolution then max pooling to x_tensor\n",
    "    :param x_tensor: TensorFlow Tensor\n",
    "    :param conv_num_outputs: Number of outputs for the convolutional layer\n",
    "    :param conv_ksize: kernal size 2-D Tuple for the convolutional layer\n",
    "    :param conv_strides: Stride 2-D Tuple for convolution\n",
    "    :param pool_ksize: kernal size 2-D Tuple for pool\n",
    "    :param pool_strides: Stride 2-D Tuple for pool\n",
    "    : return: A tensor that represents convolution and max pooling of x_tensor\n",
    "    \"\"\"\n",
    "    # TODO: Implement Function\n",
    "    filter_ = tf.Variable(tf.truncated_normal([*conv_ksize,int(x_tensor.shape[3]),conv_num_outputs],seed = 0,mean=0, stddev=0.05))\n",
    "    bias = tf.Variable(tf.constant(0.0, shape= [conv_num_outputs]))\n",
    "    conv1 = tf.nn.conv2d(x_tensor,filter = filter_,strides = [1,*conv_strides,1],padding = 'SAME')\n",
    "    A = tf.nn.relu(conv1 + bias)\n",
    "    pool1 = tf.nn.max_pool(A,ksize = [1,*pool_ksize,1],strides = [1,*pool_strides,1],padding = 'SAME')\n",
    "    \n",
    "    return pool1\n",
    "\n",
    "\n",
    "\n",
    "\"\"\"\n",
    "DON'T MODIFY ANYTHING IN THIS CELL THAT IS BELOW THIS LINE\n",
    "\"\"\"\n",
    "tests.test_con_pool(conv2d_maxpool)"
   ]
  },
  {
   "cell_type": "markdown",
   "metadata": {
    "deletable": true,
    "editable": true
   },
   "source": [
    "### 扁平化层\n",
    "\n",
    "实现 `flatten` 函数，将 `x_tensor` 的维度从四维张量（4-D tensor）变成二维张量。输出应该是形状（*部分大小（Batch Size）*，*扁平化图片大小（Flattened Image Size）*）。快捷方法：对于此层，你可以使用 [TensorFlow Layers](https://www.tensorflow.org/api_docs/python/tf/layers) 或 [TensorFlow Layers (contrib)](https://www.tensorflow.org/api_guides/python/contrib.layers) 包中的类。如果你想要更大挑战，可以仅使用其他 TensorFlow 程序包。\n"
   ]
  },
  {
   "cell_type": "code",
   "execution_count": 5,
   "metadata": {
    "collapsed": false,
    "deletable": true,
    "editable": true
   },
   "outputs": [
    {
     "name": "stdout",
     "output_type": "stream",
     "text": [
      "Tests Passed\n"
     ]
    }
   ],
   "source": [
    "def flatten(x_tensor):\n",
    "    \"\"\"\n",
    "    Flatten x_tensor to (Batch Size, Flattened Image Size)\n",
    "    : x_tensor: A tensor of size (Batch Size, ...), where ... are the image dimensions.\n",
    "    : return: A tensor of size (Batch Size, Flattened Image Size).\n",
    "    \"\"\"\n",
    "    # TODO: Implement Function\n",
    "    return tf.contrib.layers.flatten(x_tensor)\n",
    "\n",
    "\n",
    "\"\"\"\n",
    "DON'T MODIFY ANYTHING IN THIS CELL THAT IS BELOW THIS LINE\n",
    "\"\"\"\n",
    "tests.test_flatten(flatten)"
   ]
  },
  {
   "cell_type": "markdown",
   "metadata": {
    "deletable": true,
    "editable": true
   },
   "source": [
    "### 全连接层\n",
    "\n",
    "实现 `fully_conn` 函数，以向 `x_tensor` 应用完全连接的层级，形状为（*部分大小（Batch Size）*，*num_outputs*）。快捷方法：对于此层，你可以使用 [TensorFlow Layers](https://www.tensorflow.org/api_docs/python/tf/layers) 或 [TensorFlow Layers (contrib)](https://www.tensorflow.org/api_guides/python/contrib.layers) 包中的类。如果你想要更大挑战，可以仅使用其他 TensorFlow 程序包。"
   ]
  },
  {
   "cell_type": "code",
   "execution_count": 6,
   "metadata": {
    "collapsed": false,
    "deletable": true,
    "editable": true
   },
   "outputs": [
    {
     "name": "stdout",
     "output_type": "stream",
     "text": [
      "Tests Passed\n"
     ]
    }
   ],
   "source": [
    "def fully_conn(x_tensor, num_outputs):\n",
    "    \"\"\"\n",
    "    Apply a fully connected layer to x_tensor using weight and bias\n",
    "    : x_tensor: A 2-D tensor where the first dimension is batch size.\n",
    "    : num_outputs: The number of output that the new tensor should be.\n",
    "    : return: A 2-D tensor where the second dimension is num_outputs.\n",
    "    \"\"\"\n",
    "    # TODO: Implement Function\n",
    "    return tf.contrib.layers.fully_connected(x_tensor,num_outputs)\n",
    "\n",
    "\n",
    "\"\"\"\n",
    "DON'T MODIFY ANYTHING IN THIS CELL THAT IS BELOW THIS LINE\n",
    "\"\"\"\n",
    "tests.test_fully_conn(fully_conn)"
   ]
  },
  {
   "cell_type": "markdown",
   "metadata": {
    "deletable": true,
    "editable": true
   },
   "source": [
    "### 输出层\n",
    "\n",
    "实现 `output` 函数，向 x_tensor 应用完全连接的层级，形状为（*部分大小（Batch Size）*，*num_outputs*）。快捷方法：对于此层，你可以使用 [TensorFlow Layers](https://www.tensorflow.org/api_docs/python/tf/layers) 或 [TensorFlow Layers (contrib)](https://www.tensorflow.org/api_guides/python/contrib.layers) 包中的类。如果你想要更大挑战，可以仅使用其他 TensorFlow 程序包。\n",
    "\n",
    "**注意**：该层级不应应用 Activation、softmax 或交叉熵（cross entropy）。"
   ]
  },
  {
   "cell_type": "code",
   "execution_count": 7,
   "metadata": {
    "collapsed": false,
    "deletable": true,
    "editable": true
   },
   "outputs": [
    {
     "name": "stdout",
     "output_type": "stream",
     "text": [
      "Tests Passed\n"
     ]
    }
   ],
   "source": [
    "def output(x_tensor, num_outputs):\n",
    "    \"\"\"\n",
    "    Apply a output layer to x_tensor using weight and bias\n",
    "    : x_tensor: A 2-D tensor where the first dimension is batch size.\n",
    "    : num_outputs: The number of output that the new tensor should be.\n",
    "    : return: A 2-D tensor where the second dimension is num_outputs.\n",
    "    \"\"\"\n",
    "    # TODO: Implement Function\n",
    "    return tf.contrib.layers.fully_connected(x_tensor,num_outputs,activation_fn = None)\n",
    "\n",
    "\n",
    "\"\"\"\n",
    "DON'T MODIFY ANYTHING IN THIS CELL THAT IS BELOW THIS LINE\n",
    "\"\"\"\n",
    "tests.test_output(output)"
   ]
  },
  {
   "cell_type": "markdown",
   "metadata": {
    "deletable": true,
    "editable": true
   },
   "source": [
    "### 创建卷积模型\n",
    "\n",
    "实现函数 `conv_net`， 创建卷积神经网络模型。该函数传入一批图片 `x`，并输出对数（logits）。使用你在上方创建的层创建此模型：\n",
    "\n",
    "* 应用 1、2 或 3 个卷积和最大池化层（Convolution and Max Pool layers）\n",
    "* 应用一个扁平层（Flatten Layer）\n",
    "* 应用 1、2 或 3 个完全连接层（Fully Connected Layers）\n",
    "* 应用一个输出层（Output Layer）\n",
    "* 返回输出\n",
    "* 使用 `keep_prob` 向模型中的一个或多个层应用 [TensorFlow 的 Dropout](https://www.tensorflow.org/api_docs/python/tf/nn/dropout)"
   ]
  },
  {
   "cell_type": "code",
   "execution_count": 39,
   "metadata": {
    "collapsed": false,
    "deletable": true,
    "editable": true
   },
   "outputs": [
    {
     "name": "stdout",
     "output_type": "stream",
     "text": [
      "Neural Network Built!\n"
     ]
    }
   ],
   "source": [
    "def conv_net(x, keep_prob):\n",
    "    \"\"\"\n",
    "    Create a convolutional neural network model\n",
    "    : x: Placeholder tensor that holds image data.\n",
    "    : keep_prob: Placeholder tensor that hold dropout keep probability.\n",
    "    : return: Tensor that represents logits\n",
    "    \"\"\"\n",
    "    # TODO: Apply 1, 2, or 3 Convolution and Max Pool layers\n",
    "    #    Play around with different number of outputs, kernel size and stride\n",
    "    # Function Definition from Above:\n",
    "    #    conv2d_maxpool(x_tensor, conv_num_outputs, conv_ksize, conv_strides, pool_ksize, pool_strides)\n",
    "    conv1 = conv2d_maxpool(x, 64, (3,3), (2,2), (3,3), (1,1))\n",
    "    conv2 = conv2d_maxpool(conv1,128 , (3,3), (2,2), (3,3), (1,1))\n",
    "    conv3 = conv2d_maxpool(conv2, 128, (3,3), (2,2), (3,3), (1,1)) \n",
    "\n",
    "    # TODO: Apply a Flatten Layer\n",
    "    # Function Definition from Above:\n",
    "    #   flatten(x_tensor)\n",
    "    flatten1 = flatten(conv3)  \n",
    "\n",
    "\n",
    "    # TODO: Apply 1, 2, or 3 Fully Connected Layers\n",
    "    #    Play around with different number of outputs\n",
    "    # Function Definition from Above:\n",
    "    #   fully_conn(x_tensor, num_outputs)\n",
    "  \n",
    "    ful1 = fully_conn(flatten1,1024)\n",
    "    ful1_drop = tf.nn.dropout(ful1,keep_prob)  \n",
    "    ful2 = fully_conn(ful1_drop,512)\n",
    "    ful2_drop = tf.nn.dropout(ful2,keep_prob)\n",
    "    ful3 = fully_conn(ful2_drop,256)\n",
    "    ful3_drop = tf.nn.dropout(ful3,keep_prob)\n",
    "#     ful4 = fully_conn(ful3_drop,128)\n",
    "#     ful5 = fully_conn(ful4,64)\n",
    "    \n",
    "    \n",
    "    # TODO: Apply an Output Layer\n",
    "    #    Set this to the number of classes\n",
    "    # Function Definition from Above:\n",
    "    #   output(x_tensor, num_outputs)\n",
    "    output_ = output(ful3_drop,10)\n",
    "    \n",
    "    # TODO: return output\n",
    "    return output_\n",
    "\n",
    "\n",
    "\"\"\"\n",
    "DON'T MODIFY ANYTHING IN THIS CELL THAT IS BELOW THIS LINE\n",
    "\"\"\"\n",
    "\n",
    "##############################\n",
    "## Build the Neural Network ##\n",
    "##############################\n",
    "\n",
    "# Remove previous weights, bias, inputs, etc..\n",
    "tf.reset_default_graph()\n",
    "\n",
    "# Inputs\n",
    "x = neural_net_image_input((32, 32, 3))\n",
    "y = neural_net_label_input(10)\n",
    "keep_prob = neural_net_keep_prob_input()\n",
    "\n",
    "# Model\n",
    "logits = conv_net(x, keep_prob)\n",
    "\n",
    "# Name logits Tensor, so that is can be loaded from disk after training\n",
    "logits = tf.identity(logits, name='logits')\n",
    "\n",
    "# Loss and Optimizer\n",
    "cost = tf.reduce_mean(tf.nn.softmax_cross_entropy_with_logits(logits=logits, labels=y))\n",
    "optimizer = tf.train.AdamOptimizer().minimize(cost)\n",
    "\n",
    "# Accuracy\n",
    "correct_pred = tf.equal(tf.argmax(logits, 1), tf.argmax(y, 1))\n",
    "accuracy = tf.reduce_mean(tf.cast(correct_pred, tf.float32), name='accuracy')\n",
    "\n",
    "tests.test_conv_net(conv_net)"
   ]
  },
  {
   "cell_type": "markdown",
   "metadata": {
    "deletable": true,
    "editable": true
   },
   "source": [
    "## 训练神经网络\n",
    "\n",
    "### 单次优化\n",
    "\n",
    "实现函数 `train_neural_network` 以进行单次优化（single optimization）。该优化应该使用 `optimizer` 优化 `session`，其中 `feed_dict` 具有以下参数：\n",
    "\n",
    "* `x` 表示图片输入\n",
    "* `y` 表示标签\n",
    "* `keep_prob` 表示丢弃的保留率\n",
    "\n",
    "每个部分都会调用该函数，所以 `tf.global_variables_initializer()` 已经被调用。\n",
    "\n",
    "注意：不需要返回任何内容。该函数只是用来优化神经网络。\n"
   ]
  },
  {
   "cell_type": "code",
   "execution_count": 9,
   "metadata": {
    "collapsed": false,
    "deletable": true,
    "editable": true
   },
   "outputs": [
    {
     "name": "stdout",
     "output_type": "stream",
     "text": [
      "Tests Passed\n"
     ]
    }
   ],
   "source": [
    "def train_neural_network(session, optimizer, keep_probability, feature_batch, label_batch):\n",
    "    \"\"\"\n",
    "    Optimize the session on a batch of images and labels\n",
    "    : session: Current TensorFlow session\n",
    "    : optimizer: TensorFlow optimizer function\n",
    "    : keep_probability: keep probability\n",
    "    : feature_batch: Batch of Numpy image data\n",
    "    : label_batch: Batch of Numpy label data\n",
    "    \"\"\"\n",
    "    # TODO: Implement Function\n",
    "    session.run([optimizer],feed_dict = {x:feature_batch,y:label_batch,keep_prob:keep_probability})\n",
    "\n",
    "\n",
    "\"\"\"\n",
    "DON'T MODIFY ANYTHING IN THIS CELL THAT IS BELOW THIS LINE\n",
    "\"\"\"\n",
    "tests.test_train_nn(train_neural_network)"
   ]
  },
  {
   "cell_type": "markdown",
   "metadata": {
    "deletable": true,
    "editable": true
   },
   "source": [
    "### 显示数据\n",
    "\n",
    "实现函数 `print_stats` 以输出损失和验证准确率。使用全局变量 `valid_features` 和 `valid_labels` 计算验证准确率。使用保留率 `1.0` 计算损失和验证准确率（loss and validation accuracy）。\n"
   ]
  },
  {
   "cell_type": "code",
   "execution_count": 45,
   "metadata": {
    "collapsed": false,
    "deletable": true,
    "editable": true
   },
   "outputs": [],
   "source": [
    "def print_stats(session, feature_batch, label_batch, cost, accuracy):\n",
    "    \"\"\"\n",
    "    Print information about loss and validation accuracy\n",
    "    : session: Current TensorFlow session\n",
    "    : feature_batch: Batch of Numpy image data\n",
    "    : label_batch: Batch of Numpy label data\n",
    "    : cost: TensorFlow cost function\n",
    "    : accuracy: TensorFlow accuracy function\n",
    "    \"\"\"\n",
    "    # TODO: Implement Function\n",
    "    train_acc,train_loss = session.run([accuracy,cost],feed_dict = {x:feature_batch,y:label_batch,keep_prob : 1.0})\n",
    "    valid_acc,valid_loss = session.run([accuracy,cost],feed_dict = {x:valid_features,y:valid_labels,keep_prob : 1.0})\n",
    "    \n",
    "    print('value_loss :{},accuracy:{}'.format(train_loss,valid_acc))\n",
    "    return valid_loss,valid_acc,train_loss,train_acc"
   ]
  },
  {
   "cell_type": "markdown",
   "metadata": {
    "deletable": true,
    "editable": true
   },
   "source": [
    "### 超参数\n",
    "\n",
    "调试以下超参数：\n",
    "* 设置 `epochs` 表示神经网络停止学习或开始过拟合的迭代次数\n",
    "* 设置 `batch_size`，表示机器内存允许的部分最大体积。大部分人设为以下常见内存大小：\n",
    "\n",
    " * 64\n",
    " * 128\n",
    " * 256\n",
    " * ...\n",
    "* 设置 `keep_probability` 表示使用丢弃时保留节点的概率"
   ]
  },
  {
   "cell_type": "code",
   "execution_count": 43,
   "metadata": {
    "collapsed": true,
    "deletable": true,
    "editable": true
   },
   "outputs": [],
   "source": [
    "# TODO: Tune Parameters\n",
    "epochs = 30\n",
    "batch_size = 128\n",
    "keep_probability = 0.5"
   ]
  },
  {
   "cell_type": "markdown",
   "metadata": {
    "deletable": true,
    "editable": true
   },
   "source": [
    "### 在单个 CIFAR-10 部分上训练\n",
    "\n",
    "我们先用单个部分，而不是用所有的 CIFAR-10 批次训练神经网络。这样可以节省时间，并对模型进行迭代，以提高准确率。最终验证准确率达到 50% 或以上之后，在下一部分对所有数据运行模型。\n"
   ]
  },
  {
   "cell_type": "code",
   "execution_count": 46,
   "metadata": {
    "collapsed": false,
    "deletable": true,
    "editable": true,
    "scrolled": true
   },
   "outputs": [
    {
     "name": "stdout",
     "output_type": "stream",
     "text": [
      "Checking the Training on a Single Batch...\n",
      "Epoch  1, CIFAR-10 Batch 1:  value_loss :2.1222963333129883,accuracy:0.20079998672008514\n",
      "Epoch  2, CIFAR-10 Batch 1:  value_loss :1.953141689300537,accuracy:0.3431999683380127\n",
      "Epoch  3, CIFAR-10 Batch 1:  value_loss :1.7028204202651978,accuracy:0.38999995589256287\n",
      "Epoch  4, CIFAR-10 Batch 1:  value_loss :1.4260646104812622,accuracy:0.44679999351501465\n",
      "Epoch  5, CIFAR-10 Batch 1:  value_loss :1.3072690963745117,accuracy:0.4429999589920044\n",
      "Epoch  6, CIFAR-10 Batch 1:  value_loss :1.102434515953064,accuracy:0.48219993710517883\n",
      "Epoch  7, CIFAR-10 Batch 1:  value_loss :1.0036678314208984,accuracy:0.5103999376296997\n",
      "Epoch  8, CIFAR-10 Batch 1:  value_loss :0.8489247560501099,accuracy:0.5234000086784363\n",
      "Epoch  9, CIFAR-10 Batch 1:  value_loss :0.7781217098236084,accuracy:0.5387999415397644\n",
      "Epoch 10, CIFAR-10 Batch 1:  value_loss :0.75533127784729,accuracy:0.5323998928070068\n",
      "Epoch 11, CIFAR-10 Batch 1:  value_loss :0.6810807585716248,accuracy:0.5409999489784241\n",
      "Epoch 12, CIFAR-10 Batch 1:  value_loss :0.6612712144851685,accuracy:0.556999921798706\n",
      "Epoch 13, CIFAR-10 Batch 1:  value_loss :0.6829235553741455,accuracy:0.5333999991416931\n",
      "Epoch 14, CIFAR-10 Batch 1:  value_loss :0.5982868671417236,accuracy:0.5555999279022217\n",
      "Epoch 15, CIFAR-10 Batch 1:  value_loss :0.5182551741600037,accuracy:0.5559999346733093\n",
      "Epoch 16, CIFAR-10 Batch 1:  value_loss :0.4774319529533386,accuracy:0.5457999110221863\n",
      "Epoch 17, CIFAR-10 Batch 1:  value_loss :0.5364370346069336,accuracy:0.5323999524116516\n",
      "Epoch 18, CIFAR-10 Batch 1:  value_loss :0.4524657726287842,accuracy:0.5209999680519104\n",
      "Epoch 19, CIFAR-10 Batch 1:  value_loss :0.39678502082824707,accuracy:0.5455999374389648\n",
      "Epoch 20, CIFAR-10 Batch 1:  value_loss :0.4528530538082123,accuracy:0.5501999258995056\n",
      "Epoch 21, CIFAR-10 Batch 1:  value_loss :0.3550570607185364,accuracy:0.5740000009536743\n",
      "Epoch 22, CIFAR-10 Batch 1:  value_loss :0.3028562664985657,accuracy:0.5711999535560608\n",
      "Epoch 23, CIFAR-10 Batch 1:  value_loss :0.30550530552864075,accuracy:0.5633999705314636\n",
      "Epoch 24, CIFAR-10 Batch 1:  value_loss :0.2802768349647522,accuracy:0.5773999094963074\n",
      "Epoch 25, CIFAR-10 Batch 1:  value_loss :0.27892568707466125,accuracy:0.5568000078201294\n",
      "Epoch 26, CIFAR-10 Batch 1:  value_loss :0.30265486240386963,accuracy:0.5913999080657959\n",
      "Epoch 27, CIFAR-10 Batch 1:  value_loss :0.2537119388580322,accuracy:0.5689998865127563\n",
      "Epoch 28, CIFAR-10 Batch 1:  value_loss :0.2219105064868927,accuracy:0.5709999203681946\n",
      "Epoch 29, CIFAR-10 Batch 1:  value_loss :0.25492921471595764,accuracy:0.5577999353408813\n",
      "Epoch 30, CIFAR-10 Batch 1:  value_loss :0.21284082531929016,accuracy:0.5585999488830566\n"
     ]
    }
   ],
   "source": [
    "\"\"\"\n",
    "DON'T MODIFY ANYTHING IN THIS CELL\n",
    "\"\"\"\n",
    "print('Checking the Training on a Single Batch...')\n",
    "with tf.Session() as sess:\n",
    "    # Initializing the variables\n",
    "    sess.run(tf.global_variables_initializer())\n",
    "    train_loss_list = []\n",
    "    train_acc_list = []\n",
    "    valid_acc_list = []\n",
    "    valid_loss_list = []\n",
    "    # Training cycle\n",
    "    for epoch in range(epochs):\n",
    "        batch_i = 1\n",
    "        for batch_features, batch_labels in helper.load_preprocess_training_batch(batch_i, batch_size):\n",
    "            train_neural_network(sess, optimizer, keep_probability, batch_features, batch_labels)\n",
    "        print('Epoch {:>2}, CIFAR-10 Batch {}:  '.format(epoch + 1, batch_i), end='')\n",
    "        valid_loss,valid_acc,train_loss,train_acc = print_stats(sess, batch_features, batch_labels, cost, accuracy)\n",
    "        train_loss_list.append(train_loss)\n",
    "        valid_acc_list.append(valid_acc)\n",
    "        valid_loss_list.append(valid_loss)\n",
    "        train_acc_list.append(train_acc)"
   ]
  },
  {
   "cell_type": "code",
   "execution_count": 20,
   "metadata": {
    "collapsed": true,
    "deletable": true,
    "editable": true
   },
   "outputs": [],
   "source": [
    "import matplotlib.pyplot as plt"
   ]
  },
  {
   "cell_type": "code",
   "execution_count": 47,
   "metadata": {
    "collapsed": false,
    "deletable": true,
    "editable": true
   },
   "outputs": [
    {
     "data": {
      "text/plain": [
       "<matplotlib.legend.Legend at 0x7f563876ea20>"
      ]
     },
     "execution_count": 47,
     "metadata": {},
     "output_type": "execute_result"
    },
    {
     "data": {
      "image/png": "[encoded data removed]",
      "text/plain": [
       "<matplotlib.figure.Figure at 0x7f5650642080>"
      ]
     },
     "metadata": {},
     "output_type": "display_data"
    }
   ],
   "source": [
    "%matplotlib inline\n",
    "plt.plot(train_loss_list)\n",
    "plt.plot(valid_loss_list)\n",
    "plt.xlabel('epochs')\n",
    "plt.ylabel('loss')\n",
    "plt.title('model loss')\n",
    "plt.legend(['train','valid'],loc = 'upper left')"
   ]
  },
  {
   "cell_type": "code",
   "execution_count": 48,
   "metadata": {
    "collapsed": false,
    "deletable": true,
    "editable": true
   },
   "outputs": [
    {
     "data": {
      "text/plain": [
       "<matplotlib.legend.Legend at 0x7f56386e6e48>"
      ]
     },
     "execution_count": 48,
     "metadata": {},
     "output_type": "execute_result"
    },
    {
     "data": {
      "image/png": "[encoded data removed]",
      "text/plain": [
       "<matplotlib.figure.Figure at 0x7f56387400f0>"
      ]
     },
     "metadata": {},
     "output_type": "display_data"
    }
   ],
   "source": [
    "plt.plot(train_acc_list)\n",
    "plt.plot(valid_acc_list)\n",
    "plt.xlabel('epochs')\n",
    "plt.ylabel('accuracy')\n",
    "plt.title('model accuracy')\n",
    "plt.legend(['train','valid'],loc = 'upper left')"
   ]
  },
  {
   "cell_type": "markdown",
   "metadata": {
    "deletable": true,
    "editable": true
   },
   "source": [
    "### 完全训练模型\n",
    "\n",
    "现在，单个 CIFAR-10 部分的准确率已经不错了，试试所有五个部分吧。"
   ]
  },
  {
   "cell_type": "code",
   "execution_count": 49,
   "metadata": {
    "collapsed": false,
    "deletable": true,
    "editable": true
   },
   "outputs": [
    {
     "name": "stdout",
     "output_type": "stream",
     "text": [
      "Training...\n",
      "Epoch  1, CIFAR-10 Batch 1:  value_loss :2.20182466506958,accuracy:0.1679999828338623\n",
      "Epoch  1, CIFAR-10 Batch 2:  value_loss :1.785301923751831,accuracy:0.26399996876716614\n",
      "Epoch  1, CIFAR-10 Batch 3:  value_loss :1.3937668800354004,accuracy:0.34360000491142273\n",
      "Epoch  1, CIFAR-10 Batch 4:  value_loss :1.6009979248046875,accuracy:0.39259999990463257\n",
      "Epoch  1, CIFAR-10 Batch 5:  value_loss :1.4724094867706299,accuracy:0.4583999514579773\n",
      "Epoch  2, CIFAR-10 Batch 1:  value_loss :1.5796905755996704,accuracy:0.46279996633529663\n",
      "Epoch  2, CIFAR-10 Batch 2:  value_loss :1.333269715309143,accuracy:0.45819994807243347\n",
      "Epoch  2, CIFAR-10 Batch 3:  value_loss :1.1551576852798462,accuracy:0.49759989976882935\n",
      "Epoch  2, CIFAR-10 Batch 4:  value_loss :1.2508550882339478,accuracy:0.5055999159812927\n",
      "Epoch  2, CIFAR-10 Batch 5:  value_loss :1.2496979236602783,accuracy:0.5323998928070068\n",
      "Epoch  3, CIFAR-10 Batch 1:  value_loss :1.218191146850586,accuracy:0.5359999537467957\n",
      "Epoch  3, CIFAR-10 Batch 2:  value_loss :1.0716320276260376,accuracy:0.5343999266624451\n",
      "Epoch  3, CIFAR-10 Batch 3:  value_loss :1.1383776664733887,accuracy:0.5425999760627747\n",
      "Epoch  3, CIFAR-10 Batch 4:  value_loss :1.1038224697113037,accuracy:0.5571999549865723\n",
      "Epoch  3, CIFAR-10 Batch 5:  value_loss :0.9840835332870483,accuracy:0.5865999460220337\n",
      "Epoch  4, CIFAR-10 Batch 1:  value_loss :1.087097406387329,accuracy:0.5743998885154724\n",
      "Epoch  4, CIFAR-10 Batch 2:  value_loss :0.9823421239852905,accuracy:0.49519994854927063\n",
      "Epoch  4, CIFAR-10 Batch 3:  value_loss :0.9424277544021606,accuracy:0.5669999122619629\n",
      "Epoch  4, CIFAR-10 Batch 4:  value_loss :1.0083472728729248,accuracy:0.5849999189376831\n",
      "Epoch  4, CIFAR-10 Batch 5:  value_loss :0.9353997111320496,accuracy:0.5859999060630798\n",
      "Epoch  5, CIFAR-10 Batch 1:  value_loss :1.0535441637039185,accuracy:0.6053999066352844\n",
      "Epoch  5, CIFAR-10 Batch 2:  value_loss :0.7583062648773193,accuracy:0.5981999039649963\n",
      "Epoch  5, CIFAR-10 Batch 3:  value_loss :0.7879207730293274,accuracy:0.5905999541282654\n",
      "Epoch  5, CIFAR-10 Batch 4:  value_loss :0.976747453212738,accuracy:0.5977999567985535\n",
      "Epoch  5, CIFAR-10 Batch 5:  value_loss :0.806536078453064,accuracy:0.6045999526977539\n",
      "Epoch  6, CIFAR-10 Batch 1:  value_loss :0.8367066979408264,accuracy:0.6255999803543091\n",
      "Epoch  6, CIFAR-10 Batch 2:  value_loss :0.7485666871070862,accuracy:0.5895999073982239\n",
      "Epoch  6, CIFAR-10 Batch 3:  value_loss :0.7127652168273926,accuracy:0.6269999146461487\n",
      "Epoch  6, CIFAR-10 Batch 4:  value_loss :0.8182311654090881,accuracy:0.6109999418258667\n",
      "Epoch  6, CIFAR-10 Batch 5:  value_loss :0.6755432486534119,accuracy:0.6377999186515808\n",
      "Epoch  7, CIFAR-10 Batch 1:  value_loss :0.7176569700241089,accuracy:0.6255998611450195\n",
      "Epoch  7, CIFAR-10 Batch 2:  value_loss :0.702668309211731,accuracy:0.6167998909950256\n",
      "Epoch  7, CIFAR-10 Batch 3:  value_loss :0.621841549873352,accuracy:0.6147999167442322\n",
      "Epoch  7, CIFAR-10 Batch 4:  value_loss :0.7653908729553223,accuracy:0.6385998725891113\n",
      "Epoch  7, CIFAR-10 Batch 5:  value_loss :0.6660963296890259,accuracy:0.6243999004364014\n",
      "Epoch  8, CIFAR-10 Batch 1:  value_loss :0.7592941522598267,accuracy:0.6403998732566833\n",
      "Epoch  8, CIFAR-10 Batch 2:  value_loss :0.6489172577857971,accuracy:0.6361998319625854\n",
      "Epoch  8, CIFAR-10 Batch 3:  value_loss :0.5285925269126892,accuracy:0.6399998664855957\n",
      "Epoch  8, CIFAR-10 Batch 4:  value_loss :0.719954252243042,accuracy:0.6455999612808228\n",
      "Epoch  8, CIFAR-10 Batch 5:  value_loss :0.5038108825683594,accuracy:0.6347998976707458\n",
      "Epoch  9, CIFAR-10 Batch 1:  value_loss :0.59737229347229,accuracy:0.6337999105453491\n",
      "Epoch  9, CIFAR-10 Batch 2:  value_loss :0.620802104473114,accuracy:0.6407999396324158\n",
      "Epoch  9, CIFAR-10 Batch 3:  value_loss :0.4312218725681305,accuracy:0.6657998561859131\n",
      "Epoch  9, CIFAR-10 Batch 4:  value_loss :0.6671475172042847,accuracy:0.6635998487472534\n",
      "Epoch  9, CIFAR-10 Batch 5:  value_loss :0.5119447112083435,accuracy:0.6459999084472656\n",
      "Epoch 10, CIFAR-10 Batch 1:  value_loss :0.5750641822814941,accuracy:0.6449998617172241\n",
      "Epoch 10, CIFAR-10 Batch 2:  value_loss :0.6374303102493286,accuracy:0.6533998250961304\n",
      "Epoch 10, CIFAR-10 Batch 3:  value_loss :0.3957537114620209,accuracy:0.6627998352050781\n",
      "Epoch 10, CIFAR-10 Batch 4:  value_loss :0.5902075171470642,accuracy:0.6725999116897583\n",
      "Epoch 10, CIFAR-10 Batch 5:  value_loss :0.4692813754081726,accuracy:0.6659998297691345\n",
      "Epoch 11, CIFAR-10 Batch 1:  value_loss :0.5641589760780334,accuracy:0.6367999315261841\n",
      "Epoch 11, CIFAR-10 Batch 2:  value_loss :0.515851616859436,accuracy:0.6653998494148254\n",
      "Epoch 11, CIFAR-10 Batch 3:  value_loss :0.41567152738571167,accuracy:0.6741998791694641\n",
      "Epoch 11, CIFAR-10 Batch 4:  value_loss :0.5913112759590149,accuracy:0.6785998940467834\n",
      "Epoch 11, CIFAR-10 Batch 5:  value_loss :0.4064324200153351,accuracy:0.6657999753952026\n",
      "Epoch 12, CIFAR-10 Batch 1:  value_loss :0.4802241027355194,accuracy:0.6399998068809509\n",
      "Epoch 12, CIFAR-10 Batch 2:  value_loss :0.4805397391319275,accuracy:0.6671998500823975\n",
      "Epoch 12, CIFAR-10 Batch 3:  value_loss :0.3874749541282654,accuracy:0.6695998907089233\n",
      "Epoch 12, CIFAR-10 Batch 4:  value_loss :0.5305310487747192,accuracy:0.6655999422073364\n",
      "Epoch 12, CIFAR-10 Batch 5:  value_loss :0.3710598051548004,accuracy:0.6751998662948608\n",
      "Epoch 13, CIFAR-10 Batch 1:  value_loss :0.4805406928062439,accuracy:0.6865999102592468\n",
      "Epoch 13, CIFAR-10 Batch 2:  value_loss :0.5282812118530273,accuracy:0.6663998961448669\n",
      "Epoch 13, CIFAR-10 Batch 3:  value_loss :0.37840989232063293,accuracy:0.6801998615264893\n",
      "Epoch 13, CIFAR-10 Batch 4:  value_loss :0.4723181426525116,accuracy:0.6801998615264893\n",
      "Epoch 13, CIFAR-10 Batch 5:  value_loss :0.3760358691215515,accuracy:0.6535998582839966\n",
      "Epoch 14, CIFAR-10 Batch 1:  value_loss :0.493563711643219,accuracy:0.68479984998703\n",
      "Epoch 14, CIFAR-10 Batch 2:  value_loss :0.4501076340675354,accuracy:0.6721999645233154\n",
      "Epoch 14, CIFAR-10 Batch 3:  value_loss :0.32844114303588867,accuracy:0.682999849319458\n",
      "Epoch 14, CIFAR-10 Batch 4:  value_loss :0.44894617795944214,accuracy:0.6601998805999756\n",
      "Epoch 14, CIFAR-10 Batch 5:  value_loss :0.45074471831321716,accuracy:0.6711998581886292\n",
      "Epoch 15, CIFAR-10 Batch 1:  value_loss :0.42265933752059937,accuracy:0.6803998947143555\n",
      "Epoch 15, CIFAR-10 Batch 2:  value_loss :0.43750646710395813,accuracy:0.6805998682975769\n",
      "Epoch 15, CIFAR-10 Batch 3:  value_loss :0.31625357270240784,accuracy:0.6655998229980469\n",
      "Epoch 15, CIFAR-10 Batch 4:  value_loss :0.41138672828674316,accuracy:0.6891999244689941\n",
      "Epoch 15, CIFAR-10 Batch 5:  value_loss :0.31418049335479736,accuracy:0.6871998310089111\n",
      "Epoch 16, CIFAR-10 Batch 1:  value_loss :0.4450669288635254,accuracy:0.6661999225616455\n",
      "Epoch 16, CIFAR-10 Batch 2:  value_loss :0.5154793858528137,accuracy:0.6673999428749084\n",
      "Epoch 16, CIFAR-10 Batch 3:  value_loss :0.2818578779697418,accuracy:0.6607998609542847\n",
      "Epoch 16, CIFAR-10 Batch 4:  value_loss :0.37732601165771484,accuracy:0.6723998785018921\n",
      "Epoch 16, CIFAR-10 Batch 5:  value_loss :0.31717488169670105,accuracy:0.6825999021530151\n",
      "Epoch 17, CIFAR-10 Batch 1:  value_loss :0.420441597700119,accuracy:0.6805998682975769\n",
      "Epoch 17, CIFAR-10 Batch 2:  value_loss :0.4811996817588806,accuracy:0.673599898815155\n",
      "Epoch 17, CIFAR-10 Batch 3:  value_loss :0.24035699665546417,accuracy:0.6761998534202576\n",
      "Epoch 17, CIFAR-10 Batch 4:  value_loss :0.39630231261253357,accuracy:0.6889998316764832\n",
      "Epoch 17, CIFAR-10 Batch 5:  value_loss :0.25662994384765625,accuracy:0.674599826335907\n",
      "Epoch 18, CIFAR-10 Batch 1:  value_loss :0.3833514153957367,accuracy:0.6827998757362366\n",
      "Epoch 18, CIFAR-10 Batch 2:  value_loss :0.40652674436569214,accuracy:0.6927998661994934\n",
      "Epoch 18, CIFAR-10 Batch 3:  value_loss :0.2419143170118332,accuracy:0.6809998750686646\n",
      "Epoch 18, CIFAR-10 Batch 4:  value_loss :0.3792029023170471,accuracy:0.6763998866081238\n",
      "Epoch 18, CIFAR-10 Batch 5:  value_loss :0.2626783847808838,accuracy:0.6657998561859131\n",
      "Epoch 19, CIFAR-10 Batch 1:  value_loss :0.4315244257450104,accuracy:0.6921998858451843\n",
      "Epoch 19, CIFAR-10 Batch 2:  value_loss :0.34230148792266846,accuracy:0.6839998364448547\n",
      "Epoch 19, CIFAR-10 Batch 3:  value_loss :0.2145344614982605,accuracy:0.6967998743057251\n",
      "Epoch 19, CIFAR-10 Batch 4:  value_loss :0.382519394159317,accuracy:0.673599898815155\n",
      "Epoch 19, CIFAR-10 Batch 5:  value_loss :0.22643157839775085,accuracy:0.6773999333381653\n",
      "Epoch 20, CIFAR-10 Batch 1:  value_loss :0.3794209063053131,accuracy:0.6951998472213745\n",
      "Epoch 20, CIFAR-10 Batch 2:  value_loss :0.3183813989162445,accuracy:0.6803998947143555\n",
      "Epoch 20, CIFAR-10 Batch 3:  value_loss :0.2110832929611206,accuracy:0.6655999422073364\n",
      "Epoch 20, CIFAR-10 Batch 4:  value_loss :0.32992812991142273,accuracy:0.6659998893737793\n",
      "Epoch 20, CIFAR-10 Batch 5:  value_loss :0.2387886941432953,accuracy:0.7005998492240906\n",
      "Epoch 21, CIFAR-10 Batch 1:  value_loss :0.33858543634414673,accuracy:0.6977999210357666\n",
      "Epoch 21, CIFAR-10 Batch 2:  value_loss :0.33572709560394287,accuracy:0.6837999224662781\n",
      "Epoch 21, CIFAR-10 Batch 3:  value_loss :0.18704268336296082,accuracy:0.6769998073577881\n",
      "Epoch 21, CIFAR-10 Batch 4:  value_loss :0.32582953572273254,accuracy:0.6953998804092407\n",
      "Epoch 21, CIFAR-10 Batch 5:  value_loss :0.21410603821277618,accuracy:0.6967998743057251\n",
      "Epoch 22, CIFAR-10 Batch 1:  value_loss :0.32902398705482483,accuracy:0.6981999278068542\n",
      "Epoch 22, CIFAR-10 Batch 2:  value_loss :0.2982197403907776,accuracy:0.6929998397827148\n",
      "Epoch 22, CIFAR-10 Batch 3:  value_loss :0.195315420627594,accuracy:0.6897999048233032\n",
      "Epoch 22, CIFAR-10 Batch 4:  value_loss :0.2703890800476074,accuracy:0.6791998744010925\n",
      "Epoch 22, CIFAR-10 Batch 5:  value_loss :0.18292662501335144,accuracy:0.6933999061584473\n",
      "Epoch 23, CIFAR-10 Batch 1:  value_loss :0.3552614450454712,accuracy:0.7045997977256775\n",
      "Epoch 23, CIFAR-10 Batch 2:  value_loss :0.29672038555145264,accuracy:0.671799898147583\n",
      "Epoch 23, CIFAR-10 Batch 3:  value_loss :0.14858239889144897,accuracy:0.6831998825073242\n",
      "Epoch 23, CIFAR-10 Batch 4:  value_loss :0.23275360465049744,accuracy:0.6953998804092407\n",
      "Epoch 23, CIFAR-10 Batch 5:  value_loss :0.25496208667755127,accuracy:0.6955999135971069\n",
      "Epoch 24, CIFAR-10 Batch 1:  value_loss :0.37388595938682556,accuracy:0.7063998579978943\n",
      "Epoch 24, CIFAR-10 Batch 2:  value_loss :0.2882125675678253,accuracy:0.6767998337745667\n",
      "Epoch 24, CIFAR-10 Batch 3:  value_loss :0.16448453068733215,accuracy:0.7025998830795288\n",
      "Epoch 24, CIFAR-10 Batch 4:  value_loss :0.2617007791996002,accuracy:0.7017998695373535\n",
      "Epoch 24, CIFAR-10 Batch 5:  value_loss :0.20502042770385742,accuracy:0.6891998648643494\n",
      "Epoch 25, CIFAR-10 Batch 1:  value_loss :0.35049256682395935,accuracy:0.7023998498916626\n",
      "Epoch 25, CIFAR-10 Batch 2:  value_loss :0.36853519082069397,accuracy:0.6755998730659485\n",
      "Epoch 25, CIFAR-10 Batch 3:  value_loss :0.15103182196617126,accuracy:0.6957998871803284\n",
      "Epoch 25, CIFAR-10 Batch 4:  value_loss :0.21493083238601685,accuracy:0.6923999190330505\n",
      "Epoch 25, CIFAR-10 Batch 5:  value_loss :0.18846209347248077,accuracy:0.6825998425483704\n",
      "Epoch 26, CIFAR-10 Batch 1:  value_loss :0.2945651710033417,accuracy:0.7023998498916626\n",
      "Epoch 26, CIFAR-10 Batch 2:  value_loss :0.2641277313232422,accuracy:0.6911998391151428\n",
      "Epoch 26, CIFAR-10 Batch 3:  value_loss :0.1864711046218872,accuracy:0.6871998310089111\n",
      "Epoch 26, CIFAR-10 Batch 4:  value_loss :0.24801278114318848,accuracy:0.686599850654602\n",
      "Epoch 26, CIFAR-10 Batch 5:  value_loss :0.18763181567192078,accuracy:0.6901998519897461\n",
      "Epoch 27, CIFAR-10 Batch 1:  value_loss :0.35753703117370605,accuracy:0.6897999048233032\n",
      "Epoch 27, CIFAR-10 Batch 2:  value_loss :0.26501384377479553,accuracy:0.7003998756408691\n",
      "Epoch 27, CIFAR-10 Batch 3:  value_loss :0.2011425793170929,accuracy:0.679399847984314\n",
      "Epoch 27, CIFAR-10 Batch 4:  value_loss :0.19100460410118103,accuracy:0.7047998309135437\n",
      "Epoch 27, CIFAR-10 Batch 5:  value_loss :0.18665246665477753,accuracy:0.6935999393463135\n",
      "Epoch 28, CIFAR-10 Batch 1:  value_loss :0.35189783573150635,accuracy:0.7007998824119568\n",
      "Epoch 28, CIFAR-10 Batch 2:  value_loss :0.3088117241859436,accuracy:0.6819998621940613\n",
      "Epoch 28, CIFAR-10 Batch 3:  value_loss :0.1427990347146988,accuracy:0.7049998641014099\n",
      "Epoch 28, CIFAR-10 Batch 4:  value_loss :0.21302980184555054,accuracy:0.7003998756408691\n",
      "Epoch 28, CIFAR-10 Batch 5:  value_loss :0.19083508849143982,accuracy:0.6875998377799988\n",
      "Epoch 29, CIFAR-10 Batch 1:  value_loss :0.3495371341705322,accuracy:0.6985998153686523\n",
      "Epoch 29, CIFAR-10 Batch 2:  value_loss :0.25087299942970276,accuracy:0.6955999135971069\n",
      "Epoch 29, CIFAR-10 Batch 3:  value_loss :0.163005992770195,accuracy:0.6871998310089111\n",
      "Epoch 29, CIFAR-10 Batch 4:  value_loss :0.21542426943778992,accuracy:0.679999828338623\n",
      "Epoch 29, CIFAR-10 Batch 5:  value_loss :0.14561818540096283,accuracy:0.6911998987197876\n",
      "Epoch 30, CIFAR-10 Batch 1:  value_loss :0.38692888617515564,accuracy:0.6917998790740967\n",
      "Epoch 30, CIFAR-10 Batch 2:  value_loss :0.21506625413894653,accuracy:0.6957998275756836\n",
      "Epoch 30, CIFAR-10 Batch 3:  value_loss :0.1768605262041092,accuracy:0.6897998452186584\n",
      "Epoch 30, CIFAR-10 Batch 4:  value_loss :0.18679137527942657,accuracy:0.6897998452186584\n",
      "Epoch 30, CIFAR-10 Batch 5:  value_loss :0.15234887599945068,accuracy:0.7057998776435852\n"
     ]
    }
   ],
   "source": [
    "\"\"\"\n",
    "DON'T MODIFY ANYTHING IN THIS CELL\n",
    "\"\"\"\n",
    "save_model_path = './image_classification'\n",
    "\n",
    "print('Training...')\n",
    "with tf.Session() as sess:\n",
    "    # Initializing the variables\n",
    "    sess.run(tf.global_variables_initializer())\n",
    "    \n",
    "    # Training cycle\n",
    "    for epoch in range(epochs):\n",
    "        # Loop over all batches\n",
    "        n_batches = 5\n",
    "        for batch_i in range(1, n_batches + 1):\n",
    "            for batch_features, batch_labels in helper.load_preprocess_training_batch(batch_i, batch_size):\n",
    "                train_neural_network(sess, optimizer, keep_probability, batch_features, batch_labels)\n",
    "            print('Epoch {:>2}, CIFAR-10 Batch {}:  '.format(epoch + 1, batch_i), end='')\n",
    "            print_stats(sess, batch_features, batch_labels, cost, accuracy)\n",
    "            \n",
    "    # Save Model\n",
    "    saver = tf.train.Saver()\n",
    "    save_path = saver.save(sess, save_model_path)"
   ]
  },
  {
   "cell_type": "markdown",
   "metadata": {
    "deletable": true,
    "editable": true
   },
   "source": [
    "# 检查点\n",
    "\n",
    "模型已保存到本地。\n",
    "\n",
    "## 测试模型\n",
    "\n",
    "利用测试数据集测试你的模型。这将是最终的准确率。你的准确率应该高于 50%。如果没达到，请继续调整模型结构和参数。"
   ]
  },
  {
   "cell_type": "code",
   "execution_count": 50,
   "metadata": {
    "collapsed": false,
    "deletable": true,
    "editable": true
   },
   "outputs": [
    {
     "name": "stdout",
     "output_type": "stream",
     "text": [
      "Testing Accuracy: 0.7010482594936709\n",
      "\n"
     ]
    },
    {
     "data": {
      "image/png": "[encoded data removed]",
      "text/plain": [
       "<matplotlib.figure.Figure at 0x7f563872ebe0>"
      ]
     },
     "metadata": {
      "image/png": {
       "height": 319,
       "width": 355
      }
     },
     "output_type": "display_data"
    }
   ],
   "source": [
    "\"\"\"\n",
    "DON'T MODIFY ANYTHING IN THIS CELL\n",
    "\"\"\"\n",
    "%matplotlib inline\n",
    "%config InlineBackend.figure_format = 'retina'\n",
    "\n",
    "import tensorflow as tf\n",
    "import pickle\n",
    "import helper\n",
    "import random\n",
    "\n",
    "# Set batch size if not already set\n",
    "try:\n",
    "    if batch_size:\n",
    "        pass\n",
    "except NameError:\n",
    "    batch_size = 64\n",
    "\n",
    "save_model_path = './image_classification'\n",
    "n_samples = 4\n",
    "top_n_predictions = 3\n",
    "\n",
    "def test_model():\n",
    "    \"\"\"\n",
    "    Test the saved model against the test dataset\n",
    "    \"\"\"\n",
    "\n",
    "    test_features, test_labels = pickle.load(open('preprocess_test.p', mode='rb'))\n",
    "    loaded_graph = tf.Graph()\n",
    "\n",
    "    with tf.Session(graph=loaded_graph) as sess:\n",
    "        # Load model\n",
    "        loader = tf.train.import_meta_graph(save_model_path + '.meta')\n",
    "        loader.restore(sess, save_model_path)\n",
    "\n",
    "        # Get Tensors from loaded model\n",
    "        loaded_x = loaded_graph.get_tensor_by_name('x:0')\n",
    "        loaded_y = loaded_graph.get_tensor_by_name('y:0')\n",
    "        loaded_keep_prob = loaded_graph.get_tensor_by_name('keep_prob:0')\n",
    "        loaded_logits = loaded_graph.get_tensor_by_name('logits:0')\n",
    "        loaded_acc = loaded_graph.get_tensor_by_name('accuracy:0')\n",
    "        \n",
    "        # Get accuracy in batches for memory limitations\n",
    "        test_batch_acc_total = 0\n",
    "        test_batch_count = 0\n",
    "        \n",
    "        for test_feature_batch, test_label_batch in helper.batch_features_labels(test_features, test_labels, batch_size):\n",
    "            test_batch_acc_total += sess.run(\n",
    "                loaded_acc,\n",
    "                feed_dict={loaded_x: test_feature_batch, loaded_y: test_label_batch, loaded_keep_prob: 1.0})\n",
    "            test_batch_count += 1\n",
    "\n",
    "        print('Testing Accuracy: {}\\n'.format(test_batch_acc_total/test_batch_count))\n",
    "\n",
    "        # Print Random Samples\n",
    "        random_test_features, random_test_labels = tuple(zip(*random.sample(list(zip(test_features, test_labels)), n_samples)))\n",
    "        random_test_predictions = sess.run(\n",
    "            tf.nn.top_k(tf.nn.softmax(loaded_logits), top_n_predictions),\n",
    "            feed_dict={loaded_x: random_test_features, loaded_y: random_test_labels, loaded_keep_prob: 1.0})\n",
    "        helper.display_image_predictions(random_test_features, random_test_labels, random_test_predictions)\n",
    "\n",
    "\n",
    "test_model()"
   ]
  },
  {
   "cell_type": "markdown",
   "metadata": {
    "deletable": true,
    "editable": true
   },
   "source": [
    "## 为何准确率只有50-80%？\n",
    "\n",
    "你可能想问，为何准确率不能更高了？首先，对于简单的 CNN 网络来说，50% 已经不低了。纯粹猜测的准确率为10%。但是，你可能注意到有人的准确率[远远超过 80%](http://rodrigob.github.io/are_we_there_yet/build/classification_datasets_results.html#43494641522d3130)。这是因为我们还没有介绍所有的神经网络知识。我们还需要掌握一些其他技巧。\n",
    "\n",
    "## 提交项目\n",
    "\n",
    "提交项目时，确保先运行所有单元，然后再保存记事本。将 notebook 文件另存为“dlnd_image_classification.ipynb”，再在目录 \"File\" -> \"Download as\" 另存为 HTML 格式。请在提交的项目中包含 “helper.py” 和 “problem_unittests.py” 文件。\n"
   ]
  }
 ],
 "metadata": {
  "kernelspec": {
   "display_name": "Python 3",
   "language": "python",
   "name": "python3"
  },
  "language_info": {
   "codemirror_mode": {
    "name": "ipython",
    "version": 3
   },
   "file_extension": ".py",
   "mimetype": "text/x-python",
   "name": "python",
   "nbconvert_exporter": "python",
   "pygments_lexer": "ipython3",
   "version": "3.5.2"
  },
  "widgets": {
   "state": {},
   "version": "1.1.2"
  }
 },
 "nbformat": 4,
 "nbformat_minor": 0
}
